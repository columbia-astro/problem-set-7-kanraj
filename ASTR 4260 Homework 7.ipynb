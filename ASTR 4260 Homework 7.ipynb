{
 "cells": [
  {
   "cell_type": "markdown",
   "metadata": {},
   "source": [
    "# Homework 7"
   ]
  },
  {
   "cell_type": "markdown",
   "metadata": {},
   "source": [
    "Kanchana Raja, UNI: kr2702\n",
    "\n",
    "I did not have any collaborators."
   ]
  },
  {
   "cell_type": "markdown",
   "metadata": {},
   "source": [
    "# Problem 1"
   ]
  },
  {
   "cell_type": "markdown",
   "metadata": {},
   "source": [
    "import the data and extract data in time range 124 < t < 125"
   ]
  },
  {
   "cell_type": "code",
   "execution_count": 8,
   "metadata": {},
   "outputs": [
    {
     "name": "stdout",
     "output_type": "stream",
     "text": [
      "49\n",
      "[104186.81, 104175.73, 104183.13, 104161.03, 104177.14, 104169.26, 104180.85, 104151.02, 104183.96, 104171.34, 104176.87, 104187.3, 104189.58, 104187.68, 104181.26, 104175.77, 104179.58, 104179.93, 104179.43, 104082.04, 103619.63, 103486.21, 103454.16, 103412.99, 103405.58, 103392.38, 103434.2, 103486.57, 103571.31, 103979.73, 104176.46, 104172.52, 104163.95, 104172.02, 104171.56, 104194.48, 104180.95, 104157.11, 104182.98, 104176.45, 104179.43, 104176.69, 104181.37, 104176.25, 104182.89, 104185.48, 104192.16, 104184.27, 104174.18]\n"
     ]
    }
   ],
   "source": [
    "import math\n",
    "import numpy as np\n",
    "import kplr\n",
    "\n",
    "# Find the target KOI.\n",
    "client = kplr.API()\n",
    "koi = client.koi(97.01)\n",
    "\n",
    "# Get a list of light curve datasets.\n",
    "lcs = koi.get_light_curves(short_cadence=False)\n",
    "\n",
    "# Open the first dataset and read it\n",
    "f = lcs[0].open()\n",
    "hdu_data = f[1].data\n",
    "time = hdu_data[\"time\"]  # get the time of each observation\n",
    "flux = hdu_data[\"sap_flux\"] # get the flux\n",
    "flux_err = hdu_data[\"sap_flux_err\"] # get the error in the flux\n",
    "f.close()\n",
    "\n",
    "time_ext=[]\n",
    "flux_ext=[]\n",
    "flux_err_ext=[]\n",
    "\n",
    "#extract the data in the time range 124 < t < 125\n",
    "for i in range(0, len(time)):\n",
    "    if time[i]>124 and time[i]<125:\n",
    "        time_ext.append(time[i])\n",
    "        flux_ext.append(flux[i])\n",
    "        flux_err_ext.append(flux_err[i])\n",
    "\n",
    "print(len(time_ext))\n",
    "print(flux_ext)\n"
   ]
  },
  {
   "cell_type": "markdown",
   "metadata": {},
   "source": [
    "normalize flux using two-sigma clipping method"
   ]
  },
  {
   "cell_type": "code",
   "execution_count": 12,
   "metadata": {},
   "outputs": [
    {
     "name": "stdout",
     "output_type": "stream",
     "text": [
      "42\n",
      "40\n",
      "38\n",
      "36\n",
      "33\n",
      "32\n",
      "104179.0\n",
      "5.16389\n"
     ]
    }
   ],
   "source": [
    "def normalize_flux(flux, time, flux_err):\n",
    "    flux = np.array(flux)\n",
    "    f_bar = np.mean(flux)\n",
    "    sigma = np.std(flux)\n",
    "    #print(len(flux))\n",
    "    #print(f_bar)\n",
    "    #print(sigma)\n",
    "\n",
    "    new_flux = []\n",
    "    new_time = []\n",
    "    new_flux_err = []\n",
    "\n",
    "    for i in range(0, len(flux)):\n",
    "        if(abs(flux[i]-f_bar)/sigma) > 2:\n",
    "            pass\n",
    "        else:\n",
    "            new_flux.append(flux[i])\n",
    "            new_time.append(time[i])\n",
    "            new_flux_err.append(flux_err[i]) \n",
    "    \n",
    "    return(new_flux, new_time, new_flux_err)\n",
    "\n",
    "        \n",
    "\n",
    "(flux_ext2, time_ext2, flux_err_ext2) = normalize_flux(flux_ext, time_ext, flux_err_ext)\n",
    "print(len(flux_ext2))\n",
    "(flux_ext3, time_ext3, flux_err_ext3) = normalize_flux(flux_ext2, time_ext2, flux_err_ext2)\n",
    "print(len(flux_ext3))\n",
    "(flux_ext4, time_ext4, flux_err_ext4) = normalize_flux(flux_ext3, time_ext3, flux_err_ext3)\n",
    "print(len(flux_ext4))\n",
    "(flux_ext5, time_ext5, flux_err_ext5) = normalize_flux(flux_ext4, time_ext4, flux_err_ext4)\n",
    "print(len(flux_ext5))\n",
    "(flux_ext6, time_ext6, flux_err_ext6) = normalize_flux(flux_ext5, time_ext5, flux_err_ext5)\n",
    "print(len(flux_ext6))\n",
    "(flux_ext7, time_ext7, flux_err_ext7) = normalize_flux(flux_ext6, time_ext6, flux_err_ext6)\n",
    "print(len(flux_ext7))\n",
    "\n",
    "mean_flux = np.mean(flux_ext7)\n",
    "sigma_flux = np.std(flux_ext7)\n",
    "print(mean_flux)\n",
    "print(sigma_flux)"
   ]
  },
  {
   "cell_type": "markdown",
   "metadata": {},
   "source": [
    "perform integration for parameters p = 0.0775, τ = 0.1, t0 = 124.51 and calculate chi-squared"
   ]
  },
  {
   "cell_type": "code",
   "execution_count": 14,
   "metadata": {},
   "outputs": [
    {
     "data": {
      "image/png": "[encoded data removed]",
      "text/plain": [
       "<matplotlib.figure.Figure at 0x26136fd8208>"
      ]
     },
     "metadata": {},
     "output_type": "display_data"
    },
    {
     "name": "stdout",
     "output_type": "stream",
     "text": [
      "Chi-squared:  0.4924532005461551\n"
     ]
    }
   ],
   "source": [
    "import numpy as np\n",
    "import math\n",
    "import matplotlib.pyplot as plt\n",
    "\n",
    "#guess values for p, t0, and tau (trial and error)\n",
    "p = 0.0775\n",
    "tau = 0.1\n",
    "t_0 = 124.51\n",
    "n = 1000\n",
    "\n",
    "\n",
    "#update the limb-darkening function I(r)\n",
    "def I_func(r):\n",
    "    u = math.pow((1-math.pow(r,2)),1/2)\n",
    "    f = 1-(1-math.pow(u, 1/2))\n",
    "    return f\n",
    "\n",
    "#code from Problem Set 2 is below:\n",
    "\n",
    "#delta function, which is part of the numerator of the F(p, z) transit function to be evaluated\n",
    "def delta(p, r, z):\n",
    "    if r >= (z+p) or r <= (z-p):\n",
    "        return 0\n",
    "    elif (r+z) <= p:\n",
    "        return 1\n",
    "    else:\n",
    "        return (math.acos((math.pow(z, 2)-math.pow(p,2)+math.pow(r,2))/(2*z*r)))/math.pi\n",
    "\n",
    "\n",
    "#numerator of the F(p, z) transit function\n",
    "def numerator_func(p, r, z):\n",
    "    f = I_func(r)*(1-delta(p, r, abs(z)))*2*r\n",
    "    return f\n",
    "\n",
    "#denominator of the F(p, z) transit function\n",
    "def denominator_func(p, r, z):\n",
    "    f = I_func(r)*2*r\n",
    "    return f\n",
    "\n",
    "#integrating using the extended Simpson's rule (according to the lecture slides); takes the function to be integrated (f_i), lower and upper bounds for integration (a and b), and the number of steps n as parameters\n",
    "def simpson_integrator(f_i, a, b, n, z):\n",
    "    s = 0\n",
    "    #h is the step size\n",
    "    h = (b-a)/n\n",
    "    #performing the summation needed to integrate\n",
    "    for i in range(0, n):\n",
    "        x_i = a + i*h\n",
    "        if i == 0:\n",
    "            #to handle the part of the summation (1/6)*f(x_0)\n",
    "            f_result = f_i(p, x_i, z)\n",
    "            s += (1/6)*f_result\n",
    "        x_i_plus_1 = x_i + h\n",
    "        f_result1 = f_i(p, (x_i+x_i_plus_1)/2, z)\n",
    "        s += (2/3)*f_result1\n",
    "        f_result2 = f_i(p, x_i_plus_1, z)\n",
    "        if i != (n-1):\n",
    "            s += (1/3)*f_result2\n",
    "        elif i == (n-1):\n",
    "            #to handle the part of the summation (1/6)*f(x_n)\n",
    "            s += (1/6)*f_result2\n",
    "    return (h*s)\n",
    "\n",
    "\n",
    "#for each time point t in the selected Kepler data, evaluate the F(p, z) transit function by integrating the numerator and denominator functions from 0 to 1 and then dividing the resulting values\n",
    "def F_func():\n",
    "    for t in time_ext: \n",
    "        z = (t-t_0)/tau\n",
    "        numerator = simpson_integrator(numerator_func,0, 1, n, z)\n",
    "        denominator = simpson_integrator(denominator_func,0, 1, n, z)\n",
    "        F_val = numerator/denominator\n",
    "        simpson_fvals.append(F_val)\n",
    "        \n",
    "        \n",
    "        \n",
    "#will hold flux ratios calculated by PS2 Simpson's method\n",
    "simpson_fvals = []\n",
    "\n",
    "F_func()\n",
    "\n",
    "#plot the selected Kepler data and the PS2 calculated flux ratios on the same graph\n",
    "plt.plot(time_ext, simpson_fvals, marker='.')\n",
    "plt.xlabel(\"time (UTC-2454833)\")\n",
    "plt.ylabel(\"flux (counts/s)\")\n",
    "plt.title(\"flux vs. time integration\")\n",
    "plt.show()\n",
    "\n",
    "ratio_fl = []\n",
    "for f in flux_ext:\n",
    "    ratio_fl.append(f/mean_flux)\n",
    "    \n",
    "sigma = np.std(ratio_fl)\n",
    "#print(sigma)\n",
    "\n",
    "#compute chi-squared\n",
    "chi_squared = 0\n",
    "for i in range(0, len(flux_ext)):\n",
    "    chi_squared += math.pow((ratio_fl[i] - simpson_fvals[i])/sigma, 2)\n",
    "    \n",
    "print(\"Chi-squared: \",chi_squared)\n",
    "    \n"
   ]
  },
  {
   "cell_type": "markdown",
   "metadata": {},
   "source": [
    "# Problem 2"
   ]
  },
  {
   "cell_type": "code",
   "execution_count": 15,
   "metadata": {},
   "outputs": [
    {
     "data": {
      "image/png": "[encoded data removed]",
      "text/plain": [
       "<matplotlib.figure.Figure at 0x261391f5208>"
      ]
     },
     "metadata": {},
     "output_type": "display_data"
    }
   ],
   "source": [
    "#plot the selected Kepler data and the calculated flux ratios\n",
    "plt.plot(time_ext, ratio_fl, marker='.')\n",
    "plt.plot(time_ext, simpson_fvals, marker='.')\n",
    "plt.legend(['Kepler data (ratio)', 'PS2 predicted curve'])\n",
    "plt.xlabel(\"time (UTC-2454833)\")\n",
    "plt.ylabel(\"flux (counts/s)\")\n",
    "plt.title(\"flux vs. time fitting\")\n",
    "plt.show()"
   ]
  },
  {
   "cell_type": "markdown",
   "metadata": {},
   "source": [
    "By \"eye,\" it looks like a good fit."
   ]
  },
  {
   "cell_type": "markdown",
   "metadata": {},
   "source": [
    "calculate p-value for this chi-squared value"
   ]
  },
  {
   "cell_type": "code",
   "execution_count": 16,
   "metadata": {},
   "outputs": [
    {
     "name": "stdout",
     "output_type": "stream",
     "text": [
      "pvalue:  1.0\n"
     ]
    },
    {
     "name": "stderr",
     "output_type": "stream",
     "text": [
      "C:\\Anaconda\\lib\\site-packages\\scipy\\integrate\\quadpack.py:364: IntegrationWarning: The integral is probably divergent, or slowly convergent.\n",
      "  warnings.warn(msg, IntegrationWarning)\n"
     ]
    }
   ],
   "source": [
    "from scipy import integrate\n",
    "import numpy\n",
    "\n",
    "v = 46 #degrees of freedom v = N - M where N=49, the number of data points, and M=3\n",
    "\n",
    "def q_func(t, v):\n",
    "    f = math.exp(-t)*math.pow(t, (v/2)-1)\n",
    "    return v\n",
    "    \n",
    "def calculate_pvalue(chi_squared):\n",
    "    numerator = integrate.quad(q_func, (chi_squared/2), numpy.inf, (v,))\n",
    "    denominator = integrate.quad(q_func, 0, numpy.inf, (v,))\n",
    "    q = numerator[0]/denominator[0]\n",
    "    return q\n",
    "\n",
    "\n",
    "pval = calculate_pvalue(chi_squared)\n",
    "print(\"pvalue: \",pval)\n",
    "    "
   ]
  },
  {
   "cell_type": "markdown",
   "metadata": {},
   "source": [
    "It is not a good fit based on the p-value (i.e. the probability of getting this chi-squared value by chance is 1.0)."
   ]
  },
  {
   "cell_type": "markdown",
   "metadata": {},
   "source": [
    "# Problem 3"
   ]
  },
  {
   "cell_type": "markdown",
   "metadata": {},
   "source": [
    "vary tau between 0.08 and 0.13 while keeping p and t0 constant; find minimum chi-squared and report best-fitting tau value"
   ]
  },
  {
   "cell_type": "code",
   "execution_count": 17,
   "metadata": {},
   "outputs": [
    {
     "name": "stdout",
     "output_type": "stream",
     "text": [
      "5.667247126019547\n",
      "5.438582855606379\n",
      "5.278252098235688\n",
      "4.993343761215171\n",
      "4.591894857588747\n",
      "4.126532366867674\n",
      "3.6317436406953627\n",
      "3.138950254387829\n",
      "2.6695858962598944\n",
      "2.2354705786581053\n",
      "1.7994277595523056\n",
      "1.3829125106931675\n",
      "1.014596529282736\n",
      "0.7101437200530366\n",
      "0.4814792568690128\n",
      "0.33383069389984193\n",
      "0.26873542725571536\n",
      "0.2649639445727979\n",
      "0.31446259714804675\n",
      "0.4127097117419533\n",
      "0.5530295276365091\n",
      "0.716428874013949\n",
      "0.8772800499231734\n",
      "1.0306033935145198\n",
      "1.1489202337888014\n",
      "1.2546590127587767\n",
      "1.3718222085267469\n",
      "1.5089786363720161\n",
      "1.6729925105216032\n",
      "1.8686337230788705\n",
      "2.1015382143828427\n",
      "2.3780529934539327\n",
      "2.6999358965335127\n",
      "3.0677329174404457\n",
      "3.4786942668369196\n",
      "3.9244776698104027\n",
      "4.395618511484189\n",
      "4.862244897765087\n",
      "5.301592414023664\n",
      "5.7457540285598245\n",
      "6.20068062292731\n",
      "6.667346893732556\n",
      "7.142601542058951\n",
      "7.623326229751329\n",
      "8.102104022394284\n",
      "8.559943250269056\n",
      "8.964329827042326\n",
      "9.360250891791503\n",
      "9.761792164437779\n",
      "10.177774451742383\n",
      "\n",
      "\n",
      "Minimum chi-squared value:  0.2649639445727979\n",
      "Best fitting tau value:  0.0973469387755\n"
     ]
    }
   ],
   "source": [
    "p = 0.0775\n",
    "tau = 0.1\n",
    "t_0 = 124.51\n",
    "n = 1000\n",
    "sigma = np.std(ratio_fl)\n",
    "\n",
    "tau_vals = []\n",
    "chi_sq_vals = []\n",
    "\n",
    "for i in numpy.linspace(0.08, 0.13, 50):\n",
    "    tau = i\n",
    "    tau_vals.append(tau)\n",
    "    simpson_fvals = []\n",
    "    F_func()\n",
    "    chi_squared = 0\n",
    "    for i in range(0, len(flux_ext)):\n",
    "        chi_squared += math.pow((ratio_fl[i] - simpson_fvals[i])/sigma, 2)\n",
    "    chi_sq_vals.append(chi_squared)\n",
    "    print(chi_squared)\n",
    "    \n",
    "min_chi_sq = min(chi_sq_vals) \n",
    "min_index = chi_sq_vals.index(min(chi_sq_vals))\n",
    "print(\"\\n\")\n",
    "print(\"Minimum chi-squared value: \",min_chi_sq)\n",
    "print(\"Best fitting tau value: \",tau_vals[min_index])"
   ]
  },
  {
   "cell_type": "markdown",
   "metadata": {},
   "source": [
    "plot best fitting tau curve over Kepler data and calculate p-value"
   ]
  },
  {
   "cell_type": "code",
   "execution_count": 18,
   "metadata": {},
   "outputs": [
    {
     "data": {
      "image/png": "[encoded data removed]",
      "text/plain": [
       "<matplotlib.figure.Figure at 0x26139207c88>"
      ]
     },
     "metadata": {},
     "output_type": "display_data"
    }
   ],
   "source": [
    "tau = tau_vals[min_index]\n",
    "simpson_fvals = []\n",
    "F_func()\n",
    "\n",
    "#plot the selected Kepler data and the calculated flux ratios\n",
    "plt.plot(time_ext, ratio_fl, marker='.')\n",
    "plt.plot(time_ext, simpson_fvals, marker='.')\n",
    "plt.legend(['Kepler data (ratio)', 'best fitting tau curve'])\n",
    "plt.xlabel(\"time (UTC-2454833)\")\n",
    "plt.ylabel(\"flux (counts/s)\")\n",
    "plt.title(\"flux vs. time fitting\")\n",
    "plt.show()"
   ]
  },
  {
   "cell_type": "code",
   "execution_count": 78,
   "metadata": {},
   "outputs": [
    {
     "name": "stdout",
     "output_type": "stream",
     "text": [
      "p-value:  1.0\n"
     ]
    },
    {
     "name": "stderr",
     "output_type": "stream",
     "text": [
      "C:\\Anaconda\\lib\\site-packages\\scipy\\integrate\\quadpack.py:364: IntegrationWarning: The integral is probably divergent, or slowly convergent.\n",
      "  warnings.warn(msg, IntegrationWarning)\n"
     ]
    }
   ],
   "source": [
    "pval = calculate_pvalue(min_chi_sq)\n",
    "print(\"p-value: \",pval)"
   ]
  },
  {
   "cell_type": "markdown",
   "metadata": {},
   "source": [
    "plot chi-squared vs. tau to approximate one-sigma uncertainty in tau"
   ]
  },
  {
   "cell_type": "code",
   "execution_count": 20,
   "metadata": {},
   "outputs": [
    {
     "data": {
      "image/png": "[encoded data removed]",
      "text/plain": [
       "<matplotlib.figure.Figure at 0x2613a7c1a20>"
      ]
     },
     "metadata": {},
     "output_type": "display_data"
    }
   ],
   "source": [
    "plt.plot(tau_vals, chi_sq_vals, marker='.')\n",
    "plt.xlabel(\"tau\")\n",
    "plt.ylabel(\"chi-squared\")\n",
    "plt.title(\"chi-squared plot\")\n",
    "plt.show()"
   ]
  },
  {
   "cell_type": "markdown",
   "metadata": {},
   "source": [
    "One-sigma uncertainty in tau parameter is approximately 0.0075."
   ]
  },
  {
   "cell_type": "markdown",
   "metadata": {},
   "source": [
    "# Problem 4"
   ]
  },
  {
   "cell_type": "markdown",
   "metadata": {},
   "source": [
    "vary all three parameters and use scipy.optimize.minimize to minimize chi-squared and report best fit parameter set"
   ]
  },
  {
   "cell_type": "code",
   "execution_count": 57,
   "metadata": {},
   "outputs": [
    {
     "name": "stdout",
     "output_type": "stream",
     "text": [
      "6.600221841874488\n",
      "6.600212579815953\n",
      "6.600221841874488\n",
      "6.600213635040709\n",
      "6.600221841874488\n",
      "158.67562201448072\n",
      "158.67562201448072\n",
      "158.6756229190312\n",
      "158.67562201448072\n",
      "158.67562007676915\n",
      "120.51371421945214\n",
      "120.51371421945214\n",
      "120.51373484318769\n",
      "120.51371421945214\n",
      "120.51371016170685\n",
      "19.831785237685253\n",
      "19.831785237685253\n",
      "19.83179435740893\n",
      "19.831785237685253\n",
      "19.831786720310447\n",
      "4.90906658488046\n",
      "4.90906658488046\n",
      "4.909067774543295\n",
      "4.90906658488046\n",
      "4.909066794651543\n",
      "27.332146303958627\n",
      "27.332146303958627\n",
      "27.332148142633116\n",
      "27.332146303958627\n",
      "27.33214812987184\n",
      "4.7345814270286075\n",
      "4.7345814270286075\n",
      "4.734583043004839\n",
      "4.7345814270286075\n",
      "4.734581033966522\n",
      "3.5316537946735793\n",
      "3.5316537946735793\n",
      "3.531660858881538\n",
      "3.5316537946735793\n",
      "3.531649002929069\n",
      "8.788766460130741\n",
      "8.788766460130741\n",
      "8.788767549021392\n",
      "8.788766460130741\n",
      "8.78876985125974\n",
      "0.4285918580403626\n",
      "0.4285918580403626\n",
      "0.4285940455284341\n",
      "0.4285918580403626\n",
      "0.42859350106649236\n",
      "2.4189670590321066\n",
      "2.4189670590321066\n",
      "2.4189658493267\n",
      "2.4189670590321066\n",
      "2.4189688665634344\n",
      "0.39098730166957\n",
      "0.39098730166957\n",
      "0.3909897372787464\n",
      "0.39098730166957\n",
      "0.39098902765549576\n",
      "0.3438978312578224\n",
      "0.3438978312578224\n",
      "0.34390017379297816\n",
      "0.3438978312578224\n",
      "0.343899127414257\n",
      "0.5000584158297999\n",
      "0.5000584158297999\n",
      "0.5000570298440964\n",
      "0.5000584158297999\n",
      "0.5000618295680683\n",
      "0.18371456762022076\n",
      "0.18371456762022076\n",
      "0.18371597431470285\n",
      "0.18371456762022076\n",
      "0.1837158730803201\n",
      "0.10180409072675119\n",
      "0.10180409072675119\n",
      "0.10180397294073228\n",
      "0.10180409072675119\n",
      "0.10180306337613726\n",
      "0.34390666705293826\n",
      "0.34390666705293826\n",
      "0.3439040002889179\n",
      "0.34390666705293826\n",
      "0.34390811779599667\n",
      "0.07059358371139943\n",
      "0.07059358371139943\n",
      "0.0705916169932362\n",
      "0.07059358371139943\n",
      "0.07059347394962201\n",
      "0.08968995120125071\n",
      "0.08968995120125071\n",
      "0.08969000901669713\n",
      "0.08968995120125071\n",
      "0.08968919577294587\n",
      "0.07365783703467227\n",
      "0.07365783703467227\n",
      "0.07365783411958848\n",
      "0.07365783703467227\n",
      "0.07365724690096376\n",
      "0.18461428815710956\n",
      "0.18461428815710956\n",
      "0.1846123981893643\n",
      "0.18461428815710956\n",
      "0.18461493054186923\n",
      "0.07110647837313677\n",
      "0.07110647837313677\n",
      "0.07110591889036712\n",
      "0.07110647837313677\n",
      "0.07110586103391438\n",
      "0.0673890021282641\n",
      "0.0673890021282641\n",
      "0.06738874087304252\n",
      "0.0673890021282641\n",
      "0.06738856616290019\n",
      "0.06419843535175745\n",
      "0.06419843535175745\n",
      "0.06419786459879566\n",
      "0.06419843535175745\n",
      "0.06419842843031824\n",
      "0.06221239106414815\n",
      "0.06221239106414815\n",
      "0.06221229297678352\n",
      "0.06221239106414815\n",
      "0.062212212589365094\n",
      "0.06091536642886366\n",
      "0.06091536642886366\n",
      "0.06091538015052508\n",
      "0.06091536642886366\n",
      "0.06091523431181332\n",
      "0.06152463534799487\n",
      "0.06152463534799487\n",
      "0.06152500092067218\n",
      "0.06152463534799487\n",
      "0.06152489829774897\n",
      "0.06091586976469952\n",
      "0.06091586976469952\n",
      "0.06091565202257186\n",
      "0.06091586976469952\n",
      "0.06091585605620197\n",
      "0.06086911030783979\n",
      "0.06086911030783979\n",
      "0.06086878303472711\n",
      "0.06086911030783979\n",
      "0.06086922319255761\n",
      "0.060801987446103045\n",
      "0.060801987446103045\n",
      "0.06080190660550531\n",
      "0.060801987446103045\n",
      "0.0608020452629985\n",
      "0.06078213758165733\n",
      "0.06078213758165733\n",
      "0.06078181950583339\n",
      "0.06078213758165733\n",
      "0.06078211461492543\n",
      "0.06079692984900634\n",
      "0.06079692984900634\n",
      "0.060796835094221895\n",
      "0.06079692984900634\n",
      "0.06079699729838673\n",
      "0.060784576144737555\n",
      "0.060784576144737555\n",
      "0.06078450090414599\n",
      "0.060784576144737555\n",
      "0.060784688956410184\n",
      "0.060781384900433666\n",
      "0.060781384900433666\n",
      "0.060780939582907076\n",
      "0.060781384900433666\n",
      "0.060781291939225636\n",
      "0.06078119504851073\n",
      "0.06078119504851073\n",
      "0.06078130052572903\n",
      "0.06078119504851073\n",
      "0.060781426995823465\n",
      "0.06078088126829458\n",
      "0.06078088126829458\n",
      "0.06078019317455382\n",
      "0.06078088126829458\n",
      "0.06078061802081651\n",
      "0.060780791230885006\n",
      "0.060780791230885006\n",
      "0.060780999792360305\n",
      "0.060780791230885006\n",
      "0.060781096444592404\n",
      "0.060780346320218226\n",
      "0.060780346320218226\n",
      "0.060780723187736994\n",
      "0.060780346320218226\n",
      "0.06078076494010957\n",
      "0.06078047347410376\n",
      "0.06078047347410376\n",
      "0.06078067447787343\n",
      "0.06078047347410376\n",
      "0.06078070007097349\n",
      "0.06078035688282779\n",
      "0.06078035688282779\n",
      "0.060780720124240094\n",
      "0.06078035688282779\n",
      "0.060780760951812174\n",
      "0.06078034687029407\n",
      "0.06078034687029407\n",
      "0.06078072303218317\n",
      "0.06078034687029407\n",
      "0.060780764737787006\n",
      "0.060780346346680045\n",
      "0.060780346346680045\n",
      "0.06078072318017073\n",
      "0.060780346346680045\n",
      "0.060780764930219396\n",
      "0.060780346321194945\n",
      "0.060780346321194945\n",
      "0.06078072318737449\n",
      "0.060780346321194945\n",
      "0.060780764939684345\n",
      "0.06078034632029583\n",
      "0.06078034632029583\n",
      "0.06078072318770678\n",
      "0.06078034632029583\n",
      "0.0607807649400603\n",
      "0.06078034632022322\n",
      "0.06078034632022322\n",
      "0.060780723187731416\n",
      "0.06078034632022322\n",
      "0.06078076494010203\n",
      "0.060780346320218226\n",
      "0.060780346320218226\n",
      "0.060780723187736994\n",
      "0.060780346320218226\n",
      "0.06078076494010957\n",
      "0.060780346320218226\n",
      "0.060780346320218226\n",
      "0.060780723187736994\n",
      "0.060780346320218226\n",
      "0.06078076494010957\n",
      "0.0607803463202319\n",
      "0.0607803463202319\n",
      "0.06078072318773653\n",
      "0.0607803463202319\n",
      "0.06078076494010907\n",
      "0.060780346320218226\n",
      "0.060780346320218226\n",
      "0.060780723187736994\n",
      "0.060780346320218226\n",
      "0.06078076494010957\n",
      "0.060780346320218226\n",
      "0.060780346320218226\n",
      "0.060780723187736994\n",
      "0.060780346320218226\n",
      "0.06078076494010957\n",
      "0.06078034632020719\n",
      "0.06078034632020719\n",
      "0.060780723187738854\n",
      "0.06078034632020719\n",
      "0.0607807649401025\n",
      "0.06078034632020719\n",
      "0.06078034632020719\n",
      "0.060780723187738854\n",
      "0.06078034632020719\n",
      "0.0607807649401025\n",
      "0.06078034632020719\n",
      "0.06078034632020719\n",
      "0.060780723187738854\n",
      "0.06078034632020719\n",
      "0.0607807649401025\n",
      "0.0607803463202319\n",
      "0.0607803463202319\n",
      "0.06078072318773653\n",
      "0.0607803463202319\n",
      "0.06078076494010907\n",
      "0.06078034632020719\n",
      "0.06078034632020719\n",
      "0.060780723187738854\n",
      "0.06078034632020719\n",
      "0.0607807649401025\n",
      "0.06078034632020719\n",
      "0.06078034632020719\n",
      "0.060780723187738854\n",
      "0.06078034632020719\n",
      "0.0607807649401025\n",
      "0.0607803463202319\n",
      "0.0607803463202319\n",
      "0.06078072318773653\n",
      "0.0607803463202319\n",
      "0.06078076494010907\n",
      "0.06078034632020719\n",
      "0.06078034632020719\n",
      "0.060780723187738854\n",
      "0.06078034632020719\n",
      "0.0607807649401025\n",
      "0.06078034632020719\n",
      "0.06078034632020719\n",
      "0.060780723187738854\n",
      "0.06078034632020719\n",
      "0.0607807649401025\n",
      "0.0607803463202319\n",
      "0.0607803463202319\n",
      "0.06078072318773653\n",
      "0.0607803463202319\n",
      "0.06078076494010907\n",
      "0.06078034632020719\n",
      "0.06078034632020719\n",
      "0.060780723187738854\n",
      "0.06078034632020719\n",
      "0.0607807649401025\n",
      "0.06078034632020719\n",
      "0.06078034632020719\n",
      "0.060780723187738854\n",
      "0.06078034632020719\n",
      "0.0607807649401025\n",
      "0.0607803463202319\n",
      "0.0607803463202319\n",
      "0.06078072318773653\n",
      "0.0607803463202319\n",
      "0.06078076494010907\n",
      "0.06078034632020719\n",
      "0.06078034632020719\n",
      "0.060780723187738854\n",
      "0.06078034632020719\n",
      "0.0607807649401025\n",
      "0.06078213758165733\n",
      "0.06078213758165733\n",
      "0.06078181950583339\n",
      "0.06078213758165733\n",
      "0.06078211461492543\n",
      "0.06078976040841103\n",
      "0.060783105842182855\n",
      "0.0607812919986083\n",
      "0.0607812919986083\n",
      "0.060780814338617886\n",
      "0.0607812919986083\n",
      "0.06078118289679644\n",
      "0.060781827588044464\n",
      "0.06078064095241628\n",
      "0.06078064095241628\n",
      "0.06078056236590142\n",
      "0.06078064095241628\n",
      "0.06078053194732693\n",
      "0.06078063575263047\n",
      "0.06078063575263047\n",
      "0.06078090508178661\n",
      "0.06078063575263047\n",
      "0.06078098755469841\n",
      "0.06078024864541668\n",
      "0.06078024864541668\n",
      "0.060780743892360725\n",
      "0.06078024864541668\n",
      "0.0607807916190244\n",
      "0.06078042847788974\n",
      "0.06078029411594435\n",
      "0.06078025520605794\n",
      "0.06078024937527884\n",
      "[  1.24505072e+02   1.00000000e-01   1.01062446e-01]\n"
     ]
    }
   ],
   "source": [
    "from scipy.optimize import minimize \n",
    "\n",
    "#numerator of the F(p, z) transit function\n",
    "def numerator_func(p, r, z):\n",
    "    f = I_func(r)*(1-delta(p, r, abs(z)))*2*r\n",
    "    return f\n",
    "\n",
    "#denominator of the F(p, z) transit function\n",
    "def denominator_func(p, r, z):\n",
    "    f = I_func(r)*2*r\n",
    "    return f\n",
    "\n",
    "def F_func(simpson_fvals, tau, p, t_0):\n",
    "    for t in time_ext: \n",
    "        z = (t-t_0)/tau\n",
    "        numerator = simpson_integrator(numerator_func,0, 1, n, z)\n",
    "        denominator = simpson_integrator(denominator_func,0, 1, n, z)\n",
    "        F_val = numerator/denominator\n",
    "        simpson_fvals.append(F_val)\n",
    "\n",
    "#chi-squared is to be minimized\n",
    "def min_func(args):\n",
    "    t_0, p, tau = args\n",
    "    tau_vals.append(tau)\n",
    "    p_vals.append(p)\n",
    "    t0_vals.append(t_0)\n",
    "    simpson_fvals = []\n",
    "    F_func(simpson_fvals, tau, p, t_0)\n",
    "    chi_squared = 0\n",
    "    for i in range(0, len(flux_ext)):\n",
    "        chi_squared += math.pow((ratio_fl[i] - simpson_fvals[i])/sigma, 2)\n",
    "    print(chi_squared)\n",
    "    chi_sq_vals.append(chi_squared)\n",
    "    return chi_squared\n",
    "\n",
    "\n",
    "tau_vals = []\n",
    "p_vals = []\n",
    "t0_vals = []\n",
    "chi_sq_vals = []\n",
    "initial_guess = (124.51, 0.1, 0.0775)  # initial guess can be anything\n",
    "result = minimize(min_func, initial_guess)\n",
    "print(result.x)\n"
   ]
  },
  {
   "cell_type": "code",
   "execution_count": 79,
   "metadata": {},
   "outputs": [
    {
     "name": "stdout",
     "output_type": "stream",
     "text": [
      "best fit parameter set:\n",
      "t_0:  124.505071953\n",
      "p:  0.1\n",
      "tau:  0.101062445853\n"
     ]
    }
   ],
   "source": [
    "print(\"best fit parameter set:\")\n",
    "print(\"t_0: \",result.x[0])\n",
    "print(\"p: \", result.x[1])\n",
    "print(\"tau: \",result.x[2])"
   ]
  },
  {
   "cell_type": "code",
   "execution_count": 65,
   "metadata": {},
   "outputs": [
    {
     "data": {
      "image/png": "[encoded data removed]",
      "text/plain": [
       "<matplotlib.figure.Figure at 0x2613a98dba8>"
      ]
     },
     "metadata": {},
     "output_type": "display_data"
    }
   ],
   "source": [
    "tau_new = []\n",
    "chi_new = []\n",
    "\n",
    "\n",
    "for i in range(0, len(tau_vals)):\n",
    "    if tau_vals[i] < 0.2:\n",
    "        tau_new.append(tau_vals[i])\n",
    "        chi_new.append(chi_sq_vals[i])\n",
    "        \n",
    "plt.scatter(tau_new, chi_new, marker='.')\n",
    "plt.xlabel(\"tau\")\n",
    "plt.ylabel(\"chi-squared\")\n",
    "plt.title(\"chi-squared plot\")\n",
    "plt.show()"
   ]
  },
  {
   "cell_type": "markdown",
   "metadata": {},
   "source": [
    "One-sigma uncertainty in tau parameter is approximately 0.01."
   ]
  },
  {
   "cell_type": "code",
   "execution_count": 74,
   "metadata": {},
   "outputs": [
    {
     "data": {
      "image/png": "[encoded data removed]",
      "text/plain": [
       "<matplotlib.figure.Figure at 0x2613a9a2a58>"
      ]
     },
     "metadata": {},
     "output_type": "display_data"
    }
   ],
   "source": [
    "plt.scatter(p_vals, chi_sq_vals, marker='.')\n",
    "plt.xlabel(\"p\")\n",
    "plt.ylabel(\"chi-squared\")\n",
    "plt.title(\"chi-squared plot\")\n",
    "plt.show()"
   ]
  },
  {
   "cell_type": "markdown",
   "metadata": {},
   "source": [
    "The one-sigma uncertainty in the p parameter is approximately 0 according to the values used in the minimization routine."
   ]
  },
  {
   "cell_type": "code",
   "execution_count": 76,
   "metadata": {},
   "outputs": [
    {
     "data": {
      "image/png": "[encoded data removed]",
      "text/plain": [
       "<matplotlib.figure.Figure at 0x2613a8c2240>"
      ]
     },
     "metadata": {},
     "output_type": "display_data"
    }
   ],
   "source": [
    "t0_new = []\n",
    "chi_new = []\n",
    "\n",
    "\n",
    "for i in range(0, len(t0_vals)):\n",
    "    if t0_vals[i] < 124.6:\n",
    "        t0_new.append(t0_vals[i])\n",
    "        chi_new.append(chi_sq_vals[i])\n",
    "\n",
    "\n",
    "plt.scatter(t0_new, chi_new, marker='.')\n",
    "plt.xlabel(\"t0\")\n",
    "plt.ylabel(\"chi-squared\")\n",
    "plt.title(\"chi-squared plot\")\n",
    "plt.show()"
   ]
  },
  {
   "cell_type": "markdown",
   "metadata": {},
   "source": [
    "One-sigma uncertainty in the t0 parameter is approximately 0.015."
   ]
  },
  {
   "cell_type": "code",
   "execution_count": null,
   "metadata": {
    "collapsed": true
   },
   "outputs": [],
   "source": []
  }
 ],
 "metadata": {
  "kernelspec": {
   "display_name": "Python 3",
   "language": "python",
   "name": "python3"
  },
  "language_info": {
   "codemirror_mode": {
    "name": "ipython",
    "version": 3
   },
   "file_extension": ".py",
   "mimetype": "text/x-python",
   "name": "python",
   "nbconvert_exporter": "python",
   "pygments_lexer": "ipython3",
   "version": "3.6.1"
  }
 },
 "nbformat": 4,
 "nbformat_minor": 2
}
