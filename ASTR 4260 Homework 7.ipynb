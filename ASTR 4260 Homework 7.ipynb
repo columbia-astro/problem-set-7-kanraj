{
 "cells": [
  {
   "cell_type": "markdown",
   "metadata": {},
   "source": [
    "# Homework 7"
   ]
  },
  {
   "cell_type": "markdown",
   "metadata": {},
   "source": [
    "Kanchana Raja, UNI: kr2702\n",
    "\n",
    "I did not have any collaborators."
   ]
  },
  {
   "cell_type": "markdown",
   "metadata": {},
   "source": [
    "# Problem 1"
   ]
  },
  {
   "cell_type": "code",
   "execution_count": 66,
   "metadata": {},
   "outputs": [
    {
     "name": "stdout",
     "output_type": "stream",
     "text": [
      "49\n",
      "[104186.81, 104175.73, 104183.13, 104161.03, 104177.14, 104169.26, 104180.85, 104151.02, 104183.96, 104171.34, 104176.87, 104187.3, 104189.58, 104187.68, 104181.26, 104175.77, 104179.58, 104179.93, 104179.43, 104082.04, 103619.63, 103486.21, 103454.16, 103412.99, 103405.58, 103392.38, 103434.2, 103486.57, 103571.31, 103979.73, 104176.46, 104172.52, 104163.95, 104172.02, 104171.56, 104194.48, 104180.95, 104157.11, 104182.98, 104176.45, 104179.43, 104176.69, 104181.37, 104176.25, 104182.89, 104185.48, 104192.16, 104184.27, 104174.18]\n"
     ]
    }
   ],
   "source": [
    "import math\n",
    "import numpy as np\n",
    "import kplr\n",
    "\n",
    "# Find the target KOI.\n",
    "client = kplr.API()\n",
    "koi = client.koi(97.01)\n",
    "\n",
    "# Get a list of light curve datasets.\n",
    "lcs = koi.get_light_curves(short_cadence=False)\n",
    "\n",
    "# Open the first dataset and read it\n",
    "f = lcs[0].open()\n",
    "hdu_data = f[1].data\n",
    "time = hdu_data[\"time\"]  # get the time of each observation\n",
    "flux = hdu_data[\"sap_flux\"] # get the flux\n",
    "flux_err = hdu_data[\"sap_flux_err\"] # get the error in the flux\n",
    "f.close()\n",
    "\n",
    "time_ext=[]\n",
    "flux_ext=[]\n",
    "flux_err_ext=[]\n",
    "\n",
    "#extract the data in the time range 124 < t < 125\n",
    "for i in range(0, len(time)):\n",
    "    if time[i]>124 and time[i]<125:\n",
    "        time_ext.append(time[i])\n",
    "        flux_ext.append(flux[i])\n",
    "        flux_err_ext.append(flux_err[i])\n",
    "\n",
    "print(len(time_ext))\n",
    "print(flux_ext)\n"
   ]
  },
  {
   "cell_type": "code",
   "execution_count": 82,
   "metadata": {},
   "outputs": [
    {
     "name": "stdout",
     "output_type": "stream",
     "text": [
      "42\n",
      "40\n",
      "38\n",
      "36\n",
      "33\n",
      "32\n",
      "104179.0\n",
      "5.16389\n"
     ]
    }
   ],
   "source": [
    "def normalize_flux(flux, time, flux_err):\n",
    "    flux = np.array(flux)\n",
    "    f_bar = np.mean(flux)\n",
    "    sigma = np.std(flux)\n",
    "    #print(len(flux))\n",
    "    #print(f_bar)\n",
    "    #print(sigma)\n",
    "\n",
    "    new_flux = []\n",
    "    new_time = []\n",
    "    new_flux_err = []\n",
    "\n",
    "    for i in range(0, len(flux)):\n",
    "        if(abs(flux[i]-f_bar)/sigma) > 2:\n",
    "            pass\n",
    "        else:\n",
    "            new_flux.append(flux[i])\n",
    "            new_time.append(time[i])\n",
    "            new_flux_err.append(flux_err[i]) \n",
    "    \n",
    "    return(new_flux, new_time, new_flux_err)\n",
    "\n",
    "        \n",
    "\n",
    "(flux_ext2, time_ext2, flux_err_ext2) = normalize_flux(flux_ext, time_ext, flux_err_ext)\n",
    "print(len(flux_ext2))\n",
    "(flux_ext3, time_ext3, flux_err_ext3) = normalize_flux(flux_ext2, time_ext2, flux_err_ext2)\n",
    "print(len(flux_ext3))\n",
    "(flux_ext4, time_ext4, flux_err_ext4) = normalize_flux(flux_ext3, time_ext3, flux_err_ext3)\n",
    "print(len(flux_ext4))\n",
    "(flux_ext5, time_ext5, flux_err_ext5) = normalize_flux(flux_ext4, time_ext4, flux_err_ext4)\n",
    "print(len(flux_ext5))\n",
    "(flux_ext6, time_ext6, flux_err_ext6) = normalize_flux(flux_ext5, time_ext5, flux_err_ext5)\n",
    "print(len(flux_ext6))\n",
    "(flux_ext7, time_ext7, flux_err_ext7) = normalize_flux(flux_ext6, time_ext6, flux_err_ext6)\n",
    "print(len(flux_ext7))\n",
    "\n",
    "mean_flux = np.mean(flux_ext7)\n",
    "sigma_flux = np.std(flux_ext7)\n",
    "print(mean_flux)\n",
    "print(sigma_flux)"
   ]
  },
  {
   "cell_type": "code",
   "execution_count": 149,
   "metadata": {},
   "outputs": [
    {
     "data": {
      "image/png": "[encoded data removed]",
      "text/plain": [
       "<matplotlib.figure.Figure at 0x20de46e35f8>"
      ]
     },
     "metadata": {},
     "output_type": "display_data"
    },
    {
     "name": "stdout",
     "output_type": "stream",
     "text": [
      "Chi-squared:  0.4924532005461551\n"
     ]
    }
   ],
   "source": [
    "import numpy as np\n",
    "import math\n",
    "\n",
    "#guess values for p, t0, and tau (trial and error)\n",
    "p = 0.0775\n",
    "tau = 0.1\n",
    "t_0 = 124.51\n",
    "n = 1000\n",
    "\n",
    "\n",
    "#update the limb-darkening function I(r)\n",
    "def I_func(r):\n",
    "    u = math.pow((1-math.pow(r,2)),1/2)\n",
    "    f = 1-(1-math.pow(u, 1/2))\n",
    "    return f\n",
    "\n",
    "#code from Problem Set 2 is below:\n",
    "\n",
    "#delta function, which is part of the numerator of the F(p, z) transit function to be evaluated\n",
    "def delta(p, r, z):\n",
    "    if r >= (z+p) or r <= (z-p):\n",
    "        return 0\n",
    "    elif (r+z) <= p:\n",
    "        return 1\n",
    "    else:\n",
    "        return (math.acos((math.pow(z, 2)-math.pow(p,2)+math.pow(r,2))/(2*z*r)))/math.pi\n",
    "\n",
    "\n",
    "#numerator of the F(p, z) transit function\n",
    "def numerator_func(p, r, z):\n",
    "    f = I_func(r)*(1-delta(p, r, abs(z)))*2*r\n",
    "    return f\n",
    "\n",
    "#denominator of the F(p, z) transit function\n",
    "def denominator_func(p, r, z):\n",
    "    f = I_func(r)*2*r\n",
    "    return f\n",
    "\n",
    "#integrating using the extended Simpson's rule (according to the lecture slides); takes the function to be integrated (f_i), lower and upper bounds for integration (a and b), and the number of steps n as parameters\n",
    "def simpson_integrator(f_i, a, b, n, z):\n",
    "    s = 0\n",
    "    #h is the step size\n",
    "    h = (b-a)/n\n",
    "    #performing the summation needed to integrate\n",
    "    for i in range(0, n):\n",
    "        x_i = a + i*h\n",
    "        if i == 0:\n",
    "            #to handle the part of the summation (1/6)*f(x_0)\n",
    "            f_result = f_i(p, x_i, z)\n",
    "            s += (1/6)*f_result\n",
    "        x_i_plus_1 = x_i + h\n",
    "        f_result1 = f_i(p, (x_i+x_i_plus_1)/2, z)\n",
    "        s += (2/3)*f_result1\n",
    "        f_result2 = f_i(p, x_i_plus_1, z)\n",
    "        if i != (n-1):\n",
    "            s += (1/3)*f_result2\n",
    "        elif i == (n-1):\n",
    "            #to handle the part of the summation (1/6)*f(x_n)\n",
    "            s += (1/6)*f_result2\n",
    "    return (h*s)\n",
    "\n",
    "\n",
    "#for each time point t in the selected Kepler data, evaluate the F(p, z) transit function by integrating the numerator and denominator functions from 0 to 1 and then dividing the resulting values\n",
    "def F_func():\n",
    "    for t in time_ext: \n",
    "        z = (t-t_0)/tau\n",
    "        numerator = simpson_integrator(numerator_func,0, 1, n, z)\n",
    "        denominator = simpson_integrator(denominator_func,0, 1, n, z)\n",
    "        F_val = numerator/denominator\n",
    "        simpson_fvals.append(F_val)\n",
    "        \n",
    "        \n",
    "        \n",
    "#will hold flux ratios calculated by PS2 Simpson's method\n",
    "simpson_fvals = []\n",
    "\n",
    "F_func()\n",
    "\n",
    "#plot the selected Kepler data and the PS2 calculated flux ratios on the same graph\n",
    "plt.plot(time_ext, simpson_fvals, marker='.')\n",
    "plt.xlabel(\"time (UTC-2454833)\")\n",
    "plt.ylabel(\"flux (counts/s)\")\n",
    "plt.title(\"flux vs. time integration\")\n",
    "plt.show()\n",
    "\n",
    "ratio_fl = []\n",
    "for f in flux_ext:\n",
    "    ratio_fl.append(f/mean_flux)\n",
    "    \n",
    "sigma = np.std(ratio_fl)\n",
    "#print(sigma)\n",
    "\n",
    "#compute chi-squared\n",
    "chi_squared = 0\n",
    "for i in range(0, len(flux_ext)):\n",
    "    chi_squared += math.pow((ratio_fl[i] - simpson_fvals[i])/sigma, 2)\n",
    "    \n",
    "print(\"Chi-squared: \",chi_squared)\n",
    "    \n"
   ]
  },
  {
   "cell_type": "markdown",
   "metadata": {},
   "source": [
    "# Problem 2"
   ]
  },
  {
   "cell_type": "code",
   "execution_count": 128,
   "metadata": {},
   "outputs": [
    {
     "data": {
      "image/png": "[encoded data removed]",
      "text/plain": [
       "<matplotlib.figure.Figure at 0x20de30a07f0>"
      ]
     },
     "metadata": {},
     "output_type": "display_data"
    }
   ],
   "source": [
    "#plot the selected Kepler data and the calculated flux ratios\n",
    "plt.plot(time_ext, ratio_fl, marker='.')\n",
    "plt.plot(time_ext, simpson_fvals, marker='.')\n",
    "plt.legend(['Kepler data (ratio)', 'PS2 predicted curve'])\n",
    "plt.xlabel(\"time (UTC-2454833)\")\n",
    "plt.ylabel(\"flux (counts/s)\")\n",
    "plt.title(\"flux vs. time fitting\")\n",
    "plt.show()"
   ]
  },
  {
   "cell_type": "markdown",
   "metadata": {},
   "source": [
    "By \"eye,\" it looks like a good fit."
   ]
  },
  {
   "cell_type": "code",
   "execution_count": 151,
   "metadata": {},
   "outputs": [
    {
     "name": "stdout",
     "output_type": "stream",
     "text": [
      "pvalue:  1.0\n"
     ]
    },
    {
     "name": "stderr",
     "output_type": "stream",
     "text": [
      "C:\\Anaconda\\lib\\site-packages\\scipy\\integrate\\quadpack.py:364: IntegrationWarning: The integral is probably divergent, or slowly convergent.\n",
      "  warnings.warn(msg, IntegrationWarning)\n"
     ]
    }
   ],
   "source": [
    "from scipy import integrate\n",
    "import numpy\n",
    "\n",
    "v = 46 #degrees of freedom v = N - M where N=49, the number of data points, and M=3\n",
    "\n",
    "def q_func(t, v):\n",
    "    f = math.exp(-t)*math.pow(t, (v/2)-1)\n",
    "    return v\n",
    "    \n",
    "def calculate_pvalue(chi_squared):\n",
    "    numerator = integrate.quad(q_func, (chi_squared/2), numpy.inf, (v,))\n",
    "    denominator = integrate.quad(q_func, 0, numpy.inf, (v,))\n",
    "    q = numerator[0]/denominator[0]\n",
    "    return q\n",
    "\n",
    "\n",
    "pval = calculate_pvalue(chi_squared)\n",
    "print(\"pvalue: \",pval)\n",
    "    "
   ]
  },
  {
   "cell_type": "markdown",
   "metadata": {},
   "source": [
    "It is not a good fit based on the p-value (i.e. the probability of getting this chi-squared value by chance is 1.0)."
   ]
  },
  {
   "cell_type": "markdown",
   "metadata": {},
   "source": [
    "# Problem 3"
   ]
  },
  {
   "cell_type": "code",
   "execution_count": 146,
   "metadata": {},
   "outputs": [
    {
     "name": "stdout",
     "output_type": "stream",
     "text": [
      "5.667247126019547\n",
      "5.438582855606379\n",
      "5.278252098235688\n",
      "4.993343761215171\n",
      "4.591894857588747\n",
      "4.126532366867674\n",
      "3.6317436406953627\n",
      "3.138950254387829\n",
      "2.6695858962598944\n",
      "2.2354705786581053\n",
      "1.7994277595523056\n",
      "1.3829125106931675\n",
      "1.014596529282736\n",
      "0.7101437200530366\n",
      "0.4814792568690128\n",
      "0.33383069389984193\n",
      "0.26873542725571536\n",
      "0.2649639445727979\n",
      "0.31446259714804675\n",
      "0.4127097117419533\n",
      "0.5530295276365091\n",
      "0.716428874013949\n",
      "0.8772800499231734\n",
      "1.0306033935145198\n",
      "1.1489202337888014\n",
      "1.2546590127587767\n",
      "1.3718222085267469\n",
      "1.5089786363720161\n",
      "1.6729925105216032\n",
      "1.8686337230788705\n",
      "2.1015382143828427\n",
      "2.3780529934539327\n",
      "2.6999358965335127\n",
      "3.0677329174404457\n",
      "3.4786942668369196\n",
      "3.9244776698104027\n",
      "4.395618511484189\n",
      "4.862244897765087\n",
      "5.301592414023664\n",
      "5.7457540285598245\n",
      "6.20068062292731\n",
      "6.667346893732556\n",
      "7.142601542058951\n",
      "7.623326229751329\n",
      "8.102104022394284\n",
      "8.559943250269056\n",
      "8.964329827042326\n",
      "9.360250891791503\n",
      "9.761792164437779\n",
      "10.177774451742383\n",
      "\n",
      "\n",
      "Minimum chi-squared value:  0.2649639445727979\n",
      "Best fitting tau value:  0.0973469387755\n"
     ]
    }
   ],
   "source": [
    "p = 0.0775\n",
    "tau = 0.1\n",
    "t_0 = 124.51\n",
    "n = 1000\n",
    "sigma = np.std(ratio_fl)\n",
    "\n",
    "tau_vals = []\n",
    "chi_sq_vals = []\n",
    "\n",
    "for i in numpy.linspace(0.08, 0.13, 50):\n",
    "    tau = i\n",
    "    tau_vals.append(tau)\n",
    "    simpson_fvals = []\n",
    "    F_func()\n",
    "    chi_squared = 0\n",
    "    for i in range(0, len(flux_ext)):\n",
    "        chi_squared += math.pow((ratio_fl[i] - simpson_fvals[i])/sigma, 2)\n",
    "    chi_sq_vals.append(chi_squared)\n",
    "    print(chi_squared)\n",
    "    \n",
    "min_chi_sq = min(chi_sq_vals) \n",
    "min_index = chi_sq_vals.index(min(chi_sq_vals))\n",
    "print(\"\\n\")\n",
    "print(\"Minimum chi-squared value: \",min_chi_sq)\n",
    "print(\"Best fitting tau value: \",tau_vals[min_index])"
   ]
  },
  {
   "cell_type": "code",
   "execution_count": 150,
   "metadata": {},
   "outputs": [
    {
     "data": {
      "image/png": "[encoded data removed]",
      "text/plain": [
       "<matplotlib.figure.Figure at 0x20de2e96780>"
      ]
     },
     "metadata": {},
     "output_type": "display_data"
    }
   ],
   "source": [
    "tau = tau_vals[min_index]\n",
    "simpson_fvals = []\n",
    "F_func()\n",
    "\n",
    "#plot the selected Kepler data and the calculated flux ratios\n",
    "plt.plot(time_ext, ratio_fl, marker='.')\n",
    "plt.plot(time_ext, simpson_fvals, marker='.')\n",
    "plt.legend(['Kepler data (ratio)', 'best fitting tau curve'])\n",
    "plt.xlabel(\"time (UTC-2454833)\")\n",
    "plt.ylabel(\"flux (counts/s)\")\n",
    "plt.title(\"flux vs. time fitting\")\n",
    "plt.show()"
   ]
  },
  {
   "cell_type": "code",
   "execution_count": 152,
   "metadata": {},
   "outputs": [
    {
     "name": "stdout",
     "output_type": "stream",
     "text": [
      "pvalue:  1.0\n"
     ]
    },
    {
     "name": "stderr",
     "output_type": "stream",
     "text": [
      "C:\\Anaconda\\lib\\site-packages\\scipy\\integrate\\quadpack.py:364: IntegrationWarning: The integral is probably divergent, or slowly convergent.\n",
      "  warnings.warn(msg, IntegrationWarning)\n"
     ]
    }
   ],
   "source": [
    "pval = calculate_pvalue(min_chi_sq)\n",
    "print(\"pvalue: \",pval)"
   ]
  },
  {
   "cell_type": "code",
   "execution_count": 153,
   "metadata": {},
   "outputs": [
    {
     "data": {
      "image/png": "[encoded data removed]",
      "text/plain": [
       "<matplotlib.figure.Figure at 0x20de4789128>"
      ]
     },
     "metadata": {},
     "output_type": "display_data"
    }
   ],
   "source": [
    "plt.plot(tau_vals, chi_sq_vals, marker='.')\n",
    "plt.xlabel(\"tau\")\n",
    "plt.ylabel(\"chi-squared\")\n",
    "plt.title(\"chi-squared plot\")\n",
    "plt.show()"
   ]
  },
  {
   "cell_type": "markdown",
   "metadata": {},
   "source": [
    "One-sigma uncertainty in tau parameter is approximately 0.0075."
   ]
  },
  {
   "cell_type": "markdown",
   "metadata": {},
   "source": [
    "# Problem 4"
   ]
  },
  {
   "cell_type": "code",
   "execution_count": 158,
   "metadata": {},
   "outputs": [
    {
     "ename": "IndexError",
     "evalue": "list index out of range",
     "output_type": "error",
     "traceback": [
      "\u001b[1;31m---------------------------------------------------------------------------\u001b[0m",
      "\u001b[1;31mIndexError\u001b[0m                                Traceback (most recent call last)",
      "\u001b[1;32m<ipython-input-158-e966eec1ef61>\u001b[0m in \u001b[0;36m<module>\u001b[1;34m()\u001b[0m\n\u001b[0;32m     16\u001b[0m \u001b[1;33m\u001b[0m\u001b[0m\n\u001b[0;32m     17\u001b[0m \u001b[1;31m#from scipy.optimize import minimize\u001b[0m\u001b[1;33m\u001b[0m\u001b[1;33m\u001b[0m\u001b[0m\n\u001b[1;32m---> 18\u001b[1;33m \u001b[0mopt\u001b[0m \u001b[1;33m=\u001b[0m \u001b[0mscipy\u001b[0m\u001b[1;33m.\u001b[0m\u001b[0moptimize\u001b[0m\u001b[1;33m.\u001b[0m\u001b[0mfmin_bfgs\u001b[0m\u001b[1;33m(\u001b[0m\u001b[0mmin_func\u001b[0m\u001b[1;33m,\u001b[0m \u001b[1;33m(\u001b[0m\u001b[1;36m0.1\u001b[0m\u001b[1;33m,\u001b[0m \u001b[1;36m0.0775\u001b[0m\u001b[1;33m,\u001b[0m \u001b[1;36m124.51\u001b[0m\u001b[1;33m)\u001b[0m\u001b[1;33m)\u001b[0m\u001b[1;33m\u001b[0m\u001b[0m\n\u001b[0m\u001b[0;32m     19\u001b[0m \u001b[0mprint\u001b[0m\u001b[1;33m(\u001b[0m\u001b[0mopt\u001b[0m\u001b[1;33m)\u001b[0m\u001b[1;33m\u001b[0m\u001b[0m\n\u001b[0;32m     20\u001b[0m \u001b[1;31m#print(opt)\u001b[0m\u001b[1;33m\u001b[0m\u001b[1;33m\u001b[0m\u001b[0m\n",
      "\u001b[1;32mC:\\Anaconda\\lib\\site-packages\\scipy\\optimize\\optimize.py\u001b[0m in \u001b[0;36mfmin_bfgs\u001b[1;34m(f, x0, fprime, args, gtol, norm, epsilon, maxiter, full_output, disp, retall, callback)\u001b[0m\n\u001b[0;32m    857\u001b[0m             'return_all': retall}\n\u001b[0;32m    858\u001b[0m \u001b[1;33m\u001b[0m\u001b[0m\n\u001b[1;32m--> 859\u001b[1;33m     \u001b[0mres\u001b[0m \u001b[1;33m=\u001b[0m \u001b[0m_minimize_bfgs\u001b[0m\u001b[1;33m(\u001b[0m\u001b[0mf\u001b[0m\u001b[1;33m,\u001b[0m \u001b[0mx0\u001b[0m\u001b[1;33m,\u001b[0m \u001b[0margs\u001b[0m\u001b[1;33m,\u001b[0m \u001b[0mfprime\u001b[0m\u001b[1;33m,\u001b[0m \u001b[0mcallback\u001b[0m\u001b[1;33m=\u001b[0m\u001b[0mcallback\u001b[0m\u001b[1;33m,\u001b[0m \u001b[1;33m**\u001b[0m\u001b[0mopts\u001b[0m\u001b[1;33m)\u001b[0m\u001b[1;33m\u001b[0m\u001b[0m\n\u001b[0m\u001b[0;32m    860\u001b[0m \u001b[1;33m\u001b[0m\u001b[0m\n\u001b[0;32m    861\u001b[0m     \u001b[1;32mif\u001b[0m \u001b[0mfull_output\u001b[0m\u001b[1;33m:\u001b[0m\u001b[1;33m\u001b[0m\u001b[0m\n",
      "\u001b[1;32mC:\\Anaconda\\lib\\site-packages\\scipy\\optimize\\optimize.py\u001b[0m in \u001b[0;36m_minimize_bfgs\u001b[1;34m(fun, x0, args, jac, callback, gtol, norm, eps, maxiter, disp, return_all, **unknown_options)\u001b[0m\n\u001b[0;32m    911\u001b[0m     \u001b[1;32melse\u001b[0m\u001b[1;33m:\u001b[0m\u001b[1;33m\u001b[0m\u001b[0m\n\u001b[0;32m    912\u001b[0m         \u001b[0mgrad_calls\u001b[0m\u001b[1;33m,\u001b[0m \u001b[0mmyfprime\u001b[0m \u001b[1;33m=\u001b[0m \u001b[0mwrap_function\u001b[0m\u001b[1;33m(\u001b[0m\u001b[0mfprime\u001b[0m\u001b[1;33m,\u001b[0m \u001b[0margs\u001b[0m\u001b[1;33m)\u001b[0m\u001b[1;33m\u001b[0m\u001b[0m\n\u001b[1;32m--> 913\u001b[1;33m     \u001b[0mgfk\u001b[0m \u001b[1;33m=\u001b[0m \u001b[0mmyfprime\u001b[0m\u001b[1;33m(\u001b[0m\u001b[0mx0\u001b[0m\u001b[1;33m)\u001b[0m\u001b[1;33m\u001b[0m\u001b[0m\n\u001b[0m\u001b[0;32m    914\u001b[0m     \u001b[0mk\u001b[0m \u001b[1;33m=\u001b[0m \u001b[1;36m0\u001b[0m\u001b[1;33m\u001b[0m\u001b[0m\n\u001b[0;32m    915\u001b[0m     \u001b[0mN\u001b[0m \u001b[1;33m=\u001b[0m \u001b[0mlen\u001b[0m\u001b[1;33m(\u001b[0m\u001b[0mx0\u001b[0m\u001b[1;33m)\u001b[0m\u001b[1;33m\u001b[0m\u001b[0m\n",
      "\u001b[1;32mC:\\Anaconda\\lib\\site-packages\\scipy\\optimize\\optimize.py\u001b[0m in \u001b[0;36mfunction_wrapper\u001b[1;34m(*wrapper_args)\u001b[0m\n\u001b[0;32m    290\u001b[0m     \u001b[1;32mdef\u001b[0m \u001b[0mfunction_wrapper\u001b[0m\u001b[1;33m(\u001b[0m\u001b[1;33m*\u001b[0m\u001b[0mwrapper_args\u001b[0m\u001b[1;33m)\u001b[0m\u001b[1;33m:\u001b[0m\u001b[1;33m\u001b[0m\u001b[0m\n\u001b[0;32m    291\u001b[0m         \u001b[0mncalls\u001b[0m\u001b[1;33m[\u001b[0m\u001b[1;36m0\u001b[0m\u001b[1;33m]\u001b[0m \u001b[1;33m+=\u001b[0m \u001b[1;36m1\u001b[0m\u001b[1;33m\u001b[0m\u001b[0m\n\u001b[1;32m--> 292\u001b[1;33m         \u001b[1;32mreturn\u001b[0m \u001b[0mfunction\u001b[0m\u001b[1;33m(\u001b[0m\u001b[1;33m*\u001b[0m\u001b[1;33m(\u001b[0m\u001b[0mwrapper_args\u001b[0m \u001b[1;33m+\u001b[0m \u001b[0margs\u001b[0m\u001b[1;33m)\u001b[0m\u001b[1;33m)\u001b[0m\u001b[1;33m\u001b[0m\u001b[0m\n\u001b[0m\u001b[0;32m    293\u001b[0m \u001b[1;33m\u001b[0m\u001b[0m\n\u001b[0;32m    294\u001b[0m     \u001b[1;32mreturn\u001b[0m \u001b[0mncalls\u001b[0m\u001b[1;33m,\u001b[0m \u001b[0mfunction_wrapper\u001b[0m\u001b[1;33m\u001b[0m\u001b[0m\n",
      "\u001b[1;32mC:\\Anaconda\\lib\\site-packages\\scipy\\optimize\\optimize.py\u001b[0m in \u001b[0;36mapprox_fprime\u001b[1;34m(xk, f, epsilon, *args)\u001b[0m\n\u001b[0;32m    686\u001b[0m \u001b[1;33m\u001b[0m\u001b[0m\n\u001b[0;32m    687\u001b[0m     \"\"\"\n\u001b[1;32m--> 688\u001b[1;33m     \u001b[1;32mreturn\u001b[0m \u001b[0m_approx_fprime_helper\u001b[0m\u001b[1;33m(\u001b[0m\u001b[0mxk\u001b[0m\u001b[1;33m,\u001b[0m \u001b[0mf\u001b[0m\u001b[1;33m,\u001b[0m \u001b[0mepsilon\u001b[0m\u001b[1;33m,\u001b[0m \u001b[0margs\u001b[0m\u001b[1;33m=\u001b[0m\u001b[0margs\u001b[0m\u001b[1;33m)\u001b[0m\u001b[1;33m\u001b[0m\u001b[0m\n\u001b[0m\u001b[0;32m    689\u001b[0m \u001b[1;33m\u001b[0m\u001b[0m\n\u001b[0;32m    690\u001b[0m \u001b[1;33m\u001b[0m\u001b[0m\n",
      "\u001b[1;32mC:\\Anaconda\\lib\\site-packages\\scipy\\optimize\\optimize.py\u001b[0m in \u001b[0;36m_approx_fprime_helper\u001b[1;34m(xk, f, epsilon, args, f0)\u001b[0m\n\u001b[0;32m    620\u001b[0m     \"\"\"\n\u001b[0;32m    621\u001b[0m     \u001b[1;32mif\u001b[0m \u001b[0mf0\u001b[0m \u001b[1;32mis\u001b[0m \u001b[1;32mNone\u001b[0m\u001b[1;33m:\u001b[0m\u001b[1;33m\u001b[0m\u001b[0m\n\u001b[1;32m--> 622\u001b[1;33m         \u001b[0mf0\u001b[0m \u001b[1;33m=\u001b[0m \u001b[0mf\u001b[0m\u001b[1;33m(\u001b[0m\u001b[1;33m*\u001b[0m\u001b[1;33m(\u001b[0m\u001b[1;33m(\u001b[0m\u001b[0mxk\u001b[0m\u001b[1;33m,\u001b[0m\u001b[1;33m)\u001b[0m \u001b[1;33m+\u001b[0m \u001b[0margs\u001b[0m\u001b[1;33m)\u001b[0m\u001b[1;33m)\u001b[0m\u001b[1;33m\u001b[0m\u001b[0m\n\u001b[0m\u001b[0;32m    623\u001b[0m     \u001b[0mgrad\u001b[0m \u001b[1;33m=\u001b[0m \u001b[0mnumpy\u001b[0m\u001b[1;33m.\u001b[0m\u001b[0mzeros\u001b[0m\u001b[1;33m(\u001b[0m\u001b[1;33m(\u001b[0m\u001b[0mlen\u001b[0m\u001b[1;33m(\u001b[0m\u001b[0mxk\u001b[0m\u001b[1;33m)\u001b[0m\u001b[1;33m,\u001b[0m\u001b[1;33m)\u001b[0m\u001b[1;33m,\u001b[0m \u001b[0mfloat\u001b[0m\u001b[1;33m)\u001b[0m\u001b[1;33m\u001b[0m\u001b[0m\n\u001b[0;32m    624\u001b[0m     \u001b[0mei\u001b[0m \u001b[1;33m=\u001b[0m \u001b[0mnumpy\u001b[0m\u001b[1;33m.\u001b[0m\u001b[0mzeros\u001b[0m\u001b[1;33m(\u001b[0m\u001b[1;33m(\u001b[0m\u001b[0mlen\u001b[0m\u001b[1;33m(\u001b[0m\u001b[0mxk\u001b[0m\u001b[1;33m)\u001b[0m\u001b[1;33m,\u001b[0m\u001b[1;33m)\u001b[0m\u001b[1;33m,\u001b[0m \u001b[0mfloat\u001b[0m\u001b[1;33m)\u001b[0m\u001b[1;33m\u001b[0m\u001b[0m\n",
      "\u001b[1;32mC:\\Anaconda\\lib\\site-packages\\scipy\\optimize\\optimize.py\u001b[0m in \u001b[0;36mfunction_wrapper\u001b[1;34m(*wrapper_args)\u001b[0m\n\u001b[0;32m    290\u001b[0m     \u001b[1;32mdef\u001b[0m \u001b[0mfunction_wrapper\u001b[0m\u001b[1;33m(\u001b[0m\u001b[1;33m*\u001b[0m\u001b[0mwrapper_args\u001b[0m\u001b[1;33m)\u001b[0m\u001b[1;33m:\u001b[0m\u001b[1;33m\u001b[0m\u001b[0m\n\u001b[0;32m    291\u001b[0m         \u001b[0mncalls\u001b[0m\u001b[1;33m[\u001b[0m\u001b[1;36m0\u001b[0m\u001b[1;33m]\u001b[0m \u001b[1;33m+=\u001b[0m \u001b[1;36m1\u001b[0m\u001b[1;33m\u001b[0m\u001b[0m\n\u001b[1;32m--> 292\u001b[1;33m         \u001b[1;32mreturn\u001b[0m \u001b[0mfunction\u001b[0m\u001b[1;33m(\u001b[0m\u001b[1;33m*\u001b[0m\u001b[1;33m(\u001b[0m\u001b[0mwrapper_args\u001b[0m \u001b[1;33m+\u001b[0m \u001b[0margs\u001b[0m\u001b[1;33m)\u001b[0m\u001b[1;33m)\u001b[0m\u001b[1;33m\u001b[0m\u001b[0m\n\u001b[0m\u001b[0;32m    293\u001b[0m \u001b[1;33m\u001b[0m\u001b[0m\n\u001b[0;32m    294\u001b[0m     \u001b[1;32mreturn\u001b[0m \u001b[0mncalls\u001b[0m\u001b[1;33m,\u001b[0m \u001b[0mfunction_wrapper\u001b[0m\u001b[1;33m\u001b[0m\u001b[0m\n",
      "\u001b[1;32m<ipython-input-158-e966eec1ef61>\u001b[0m in \u001b[0;36mmin_func\u001b[1;34m(tup)\u001b[0m\n\u001b[0;32m     10\u001b[0m     \u001b[0mchi_squared\u001b[0m \u001b[1;33m=\u001b[0m \u001b[1;36m0\u001b[0m\u001b[1;33m\u001b[0m\u001b[0m\n\u001b[0;32m     11\u001b[0m     \u001b[1;32mfor\u001b[0m \u001b[0mi\u001b[0m \u001b[1;32min\u001b[0m \u001b[0mrange\u001b[0m\u001b[1;33m(\u001b[0m\u001b[1;36m0\u001b[0m\u001b[1;33m,\u001b[0m \u001b[0mlen\u001b[0m\u001b[1;33m(\u001b[0m\u001b[0mflux_ext\u001b[0m\u001b[1;33m)\u001b[0m\u001b[1;33m)\u001b[0m\u001b[1;33m:\u001b[0m\u001b[1;33m\u001b[0m\u001b[0m\n\u001b[1;32m---> 12\u001b[1;33m         \u001b[0mchi_squared\u001b[0m \u001b[1;33m+=\u001b[0m \u001b[0mmath\u001b[0m\u001b[1;33m.\u001b[0m\u001b[0mpow\u001b[0m\u001b[1;33m(\u001b[0m\u001b[1;33m(\u001b[0m\u001b[0mratio_fl\u001b[0m\u001b[1;33m[\u001b[0m\u001b[0mi\u001b[0m\u001b[1;33m]\u001b[0m \u001b[1;33m-\u001b[0m \u001b[0msimpson_fvals\u001b[0m\u001b[1;33m[\u001b[0m\u001b[0mi\u001b[0m\u001b[1;33m]\u001b[0m\u001b[1;33m)\u001b[0m\u001b[1;33m/\u001b[0m\u001b[0msigma\u001b[0m\u001b[1;33m,\u001b[0m \u001b[1;36m2\u001b[0m\u001b[1;33m)\u001b[0m\u001b[1;33m\u001b[0m\u001b[0m\n\u001b[0m\u001b[0;32m     13\u001b[0m     \u001b[1;32mreturn\u001b[0m \u001b[0mchi_squared\u001b[0m\u001b[1;33m\u001b[0m\u001b[0m\n\u001b[0;32m     14\u001b[0m \u001b[1;33m\u001b[0m\u001b[0m\n",
      "\u001b[1;31mIndexError\u001b[0m: list index out of range"
     ]
    }
   ],
   "source": [
    "#from scipy.optimize import brute\n",
    "import scipy.optimize\n",
    "\n",
    "def min_func(tup):\n",
    "    tau = tup[0]\n",
    "    p = tup[1]\n",
    "    t_0 = tup[2]\n",
    "    simpson_fvals = []\n",
    "    F_func()\n",
    "    chi_squared = 0\n",
    "    for i in range(0, len(flux_ext)):\n",
    "        chi_squared += math.pow((ratio_fl[i] - simpson_fvals[i])/sigma, 2)\n",
    "    return chi_squared\n",
    "\n",
    "#print scipy.optimize.fmin_bfgs(testfn, (2,2)) \n",
    "\n",
    "#from scipy.optimize import minimize\n",
    "opt = scipy.optimize.fmin_bfgs(min_func, (0.1, 0.0775, 124.51)) \n",
    "print(opt)\n",
    "#print(opt)\n",
    "\n",
    "\n",
    "#x, y, z, w = brute(min_func,ranges=((0.08, 0.13),(0.05, 0.12), (124, 125)),full_output = True)\n",
    "#print(y)"
   ]
  },
  {
   "cell_type": "markdown",
   "metadata": {},
   "source": [
    "My apologies that I am unable to complete this problem within the time due to multiple health problems. "
   ]
  },
  {
   "cell_type": "markdown",
   "metadata": {},
   "source": [
    "I tried scipy.optimize.brute and scipy.optimize.minimize to minimize the chi-squared but could not get them to work."
   ]
  },
  {
   "cell_type": "code",
   "execution_count": null,
   "metadata": {
    "collapsed": true
   },
   "outputs": [],
   "source": []
  }
 ],
 "metadata": {
  "kernelspec": {
   "display_name": "Python 3",
   "language": "python",
   "name": "python3"
  },
  "language_info": {
   "codemirror_mode": {
    "name": "ipython",
    "version": 3
   },
   "file_extension": ".py",
   "mimetype": "text/x-python",
   "name": "python",
   "nbconvert_exporter": "python",
   "pygments_lexer": "ipython3",
   "version": "3.6.1"
  }
 },
 "nbformat": 4,
 "nbformat_minor": 2
}
